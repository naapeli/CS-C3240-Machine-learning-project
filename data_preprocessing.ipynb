{
 "cells": [
  {
   "cell_type": "code",
   "execution_count": 1,
   "metadata": {},
   "outputs": [],
   "source": [
    "from PIL import Image\n",
    "import numpy as np\n",
    "import os"
   ]
  },
  {
   "cell_type": "code",
   "execution_count": 2,
   "metadata": {},
   "outputs": [
    {
     "name": "stderr",
     "output_type": "stream",
     "text": [
      "C:\\Users\\aatus\\AppData\\Local\\Packages\\PythonSoftwareFoundation.Python.3.11_qbz5n2kfra8p0\\LocalCache\\local-packages\\Python311\\site-packages\\PIL\\Image.py:970: UserWarning: Palette images with Transparency expressed in bytes should be converted to RGBA images\n",
      "  warnings.warn(\n"
     ]
    }
   ],
   "source": [
    "def resize(input_dir, output_dir, target_size=(32,32)):\n",
    "    os.makedirs(output_dir, exist_ok=True)\n",
    "\n",
    "    for kuva in os.listdir(input_dir):\n",
    "        img_path = os.path.join(input_dir, kuva)\n",
    "        img = Image.open(img_path)\n",
    "        resized = img.resize(target_size, Image.BICUBIC)\n",
    "        resized = resized.convert('RGB')\n",
    "        resized.save(os.path.join(output_dir, kuva))\n",
    "\n",
    "resize(\"./data/angry\", \"./data/resized_angry\")\n",
    "resize(\"./data/happy\", \"./data/resized_happy\")\n",
    "resize(\"./data/sad\", \"./data/resized_sad\")"
   ]
  },
  {
   "cell_type": "code",
   "execution_count": 16,
   "metadata": {},
   "outputs": [],
   "source": [
    "import torch\n",
    "from torchvision import transforms\n",
    "import torch.nn.functional as F\n",
    "\n",
    "angry_path = \"./data/resized_angry\"\n",
    "happy_path = \"./data/resized_happy\"\n",
    "sad_path = \"./data/resized_sad\"\n",
    "\n",
    "valid_extensions = ('.jpg', '.jpeg', '.png')\n",
    "\n",
    "data = []\n",
    "labels = []\n",
    "\n",
    "to_tensor = transforms.ToTensor()\n",
    "\n",
    "for kuva in os.listdir(angry_path):\n",
    "    if kuva.endswith(valid_extensions):\n",
    "        img_path = os.path.join(angry_path, kuva)\n",
    "        img = Image.open(img_path)\n",
    "        tensori = to_tensor(img)\n",
    "        data.append(tensori)\n",
    "        labels.append(0)\n",
    "\n",
    "for kuva in os.listdir(happy_path):\n",
    "    if kuva.endswith(valid_extensions):\n",
    "        img_path = os.path.join(happy_path, kuva)\n",
    "        img = Image.open(img_path)\n",
    "        tensori = to_tensor(img)\n",
    "        data.append(tensori)\n",
    "        labels.append(1)\n",
    "\n",
    "for kuva in os.listdir(sad_path):\n",
    "    if kuva.endswith(valid_extensions):\n",
    "        img_path = os.path.join(sad_path, kuva)\n",
    "        img = Image.open(img_path)\n",
    "        tensori = to_tensor(img)\n",
    "        data.append(tensori)\n",
    "        labels.append(2)\n",
    "\n",
    "data = torch.stack(data)\n",
    "labels = torch.tensor(labels)\n",
    "labels = F.one_hot(labels)"
   ]
  },
  {
   "cell_type": "code",
   "execution_count": 17,
   "metadata": {},
   "outputs": [
    {
     "name": "stdout",
     "output_type": "stream",
     "text": [
      "torch.Size([288, 3, 32, 32])\n",
      "torch.Size([288, 3])\n"
     ]
    }
   ],
   "source": [
    "print(data.shape)\n",
    "print(labels.shape)"
   ]
  },
  {
   "cell_type": "code",
   "execution_count": 18,
   "metadata": {},
   "outputs": [],
   "source": [
    "from torch.utils.data import DataLoader, TensorDataset, random_split\n",
    "\n",
    "labeled_data = TensorDataset(data, labels)\n",
    "train_len = int(0.8*len(labeled_data))\n",
    "test_len = len(labeled_data) - train_len\n",
    "\n",
    "train_data, test_data = random_split(labeled_data, [train_len, test_len])\n",
    "\n",
    "\n",
    "loaders = {\n",
    "    \"train\": DataLoader(train_data, \n",
    "                        batch_size= 16, \n",
    "                        shuffle=True,),\n",
    "    \"test\": DataLoader(test_data,\n",
    "                       batch_size=16,\n",
    "                       shuffle=True)\n",
    "}"
   ]
  },
  {
   "cell_type": "code",
   "execution_count": 19,
   "metadata": {},
   "outputs": [
    {
     "data": {
      "text/plain": [
       "{'train': <torch.utils.data.dataloader.DataLoader at 0x168efe900>,\n",
       " 'test': <torch.utils.data.dataloader.DataLoader at 0x168efc6b0>}"
      ]
     },
     "execution_count": 19,
     "metadata": {},
     "output_type": "execute_result"
    }
   ],
   "source": [
    "loaders"
   ]
  },
  {
   "cell_type": "code",
   "execution_count": 20,
   "metadata": {},
   "outputs": [],
   "source": [
    "import torch.nn as nn\n",
    "import torch.optim as optim\n",
    "import matplotlib.pyplot as plt"
   ]
  },
  {
   "cell_type": "code",
   "execution_count": null,
   "metadata": {},
   "outputs": [],
   "source": [
    "class CNN(nn.Module):\n",
    "\n",
    "    def __init__(self, x):\n",
    "        super(CNN, self).__init__()\n",
    "\n",
    "        self.conv1 = nn.Conv2d(3, 32, kernel_size=5)\n",
    "        self.conv2 = nn.Conv2d(32, 64, kernel_size=5)\n",
    "        self.conv3 = nn.Conv2d(64, 128, kernel_size=5)\n",
    "        self.conv2_dropout = nn.Dropout2d()\n",
    "        self.conv3_dropout = nn.Dropout2d()\n",
    "        self.fc1 = "
   ]
  }
 ],
 "metadata": {
  "kernelspec": {
   "display_name": "Python 3",
   "language": "python",
   "name": "python3"
  },
  "language_info": {
   "codemirror_mode": {
    "name": "ipython",
    "version": 3
   },
   "file_extension": ".py",
   "mimetype": "text/x-python",
   "name": "python",
   "nbconvert_exporter": "python",
   "pygments_lexer": "ipython3",
   "version": "3.11.9"
  }
 },
 "nbformat": 4,
 "nbformat_minor": 2
}
