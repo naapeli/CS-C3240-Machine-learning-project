{
 "cells": [
  {
   "cell_type": "code",
   "execution_count": 2,
   "metadata": {},
   "outputs": [],
   "source": [
    "from PIL import Image\n",
    "import numpy as np\n",
    "import os"
   ]
  },
  {
   "cell_type": "code",
   "execution_count": 5,
   "metadata": {},
   "outputs": [
    {
     "name": "stderr",
     "output_type": "stream",
     "text": [
      "/Library/Frameworks/Python.framework/Versions/3.12/lib/python3.12/site-packages/PIL/Image.py:981: UserWarning: Palette images with Transparency expressed in bytes should be converted to RGBA images\n",
      "  warnings.warn(\n"
     ]
    }
   ],
   "source": [
    "def resize(input_dir, output_dir, target_size=(32,32)):\n",
    "    os.makedirs(output_dir, exist_ok=True)\n",
    "\n",
    "    for kuva in os.listdir(input_dir):\n",
    "        img_path = os.path.join(input_dir, kuva)\n",
    "        img = Image.open(img_path)\n",
    "        resized = img.resize(target_size, Image.BICUBIC)\n",
    "        resized = resized.convert('RGB')\n",
    "        resized.save(os.path.join(output_dir, kuva))\n",
    "\n",
    "resize(\"./data/angry\", \"./data/resized_angry\")\n",
    "resize(\"./data/happy\", \"./data/resized_happy\")\n",
    "resize(\"./data/sad\", \"./data/resized_sad\")"
   ]
  },
  {
   "cell_type": "code",
   "execution_count": 16,
   "metadata": {},
   "outputs": [],
   "source": [
    "import torch\n",
    "from torchvision import transforms\n",
    "import torch.nn.functional as F\n",
    "\n",
    "angry_path = \"./data/resized_angry\"\n",
    "happy_path = \"./data/resized_happy\"\n",
    "sad_path = \"./data/resized_sad\"\n",
    "\n",
    "valid_extensions = ('.jpg', '.jpeg', '.png')\n",
    "\n",
    "data = []\n",
    "labels = []\n",
    "\n",
    "to_tensor = transforms.ToTensor()\n",
    "\n",
    "for kuva in os.listdir(angry_path):\n",
    "    if kuva.endswith(valid_extensions):\n",
    "        img_path = os.path.join(angry_path, kuva)\n",
    "        img = Image.open(img_path)\n",
    "        tensori = to_tensor(img)\n",
    "        data.append(tensori)\n",
    "        labels.append(0)\n",
    "\n",
    "for kuva in os.listdir(happy_path):\n",
    "    if kuva.endswith(valid_extensions):\n",
    "        img_path = os.path.join(happy_path, kuva)\n",
    "        img = Image.open(img_path)\n",
    "        tensori = to_tensor(img)\n",
    "        data.append(tensori)\n",
    "        labels.append(1)\n",
    "\n",
    "for kuva in os.listdir(sad_path):\n",
    "    if kuva.endswith(valid_extensions):\n",
    "        img_path = os.path.join(sad_path, kuva)\n",
    "        img = Image.open(img_path)\n",
    "        tensori = to_tensor(img)\n",
    "        data.append(tensori)\n",
    "        labels.append(2)\n",
    "\n",
    "data = torch.stack(data)\n",
    "labels = torch.tensor(labels)\n",
    "labels = F.one_hot(labels)"
   ]
  },
  {
   "cell_type": "code",
   "execution_count": 17,
   "metadata": {},
   "outputs": [
    {
     "name": "stdout",
     "output_type": "stream",
     "text": [
      "torch.Size([288, 3, 32, 32])\n",
      "torch.Size([288, 3])\n"
     ]
    }
   ],
   "source": [
    "print(data.shape)\n",
    "print(labels.shape)"
   ]
  },
  {
   "cell_type": "code",
   "execution_count": 18,
   "metadata": {},
   "outputs": [],
   "source": [
    "from torch.utils.data import DataLoader, TensorDataset, random_split\n",
    "\n",
    "labeled_data = TensorDataset(data, labels)\n",
    "train_len = int(0.8*len(labeled_data))\n",
    "test_len = len(labeled_data) - train_len\n",
    "\n",
    "train_data, test_data = random_split(labeled_data, [train_len, test_len])\n",
    "\n",
    "\n",
    "loaders = {\n",
    "    \"train\": DataLoader(train_data, \n",
    "                        batch_size= 16, \n",
    "                        shuffle=True,),\n",
    "    \"test\": DataLoader(test_data,\n",
    "                       batch_size=16,\n",
    "                       shuffle=True)\n",
    "}"
   ]
  },
  {
   "cell_type": "code",
   "execution_count": 19,
   "metadata": {},
   "outputs": [
    {
     "data": {
      "text/plain": [
       "{'train': <torch.utils.data.dataloader.DataLoader at 0x168efe900>,\n",
       " 'test': <torch.utils.data.dataloader.DataLoader at 0x168efc6b0>}"
      ]
     },
     "execution_count": 19,
     "metadata": {},
     "output_type": "execute_result"
    }
   ],
   "source": [
    "loaders"
   ]
  },
  {
   "cell_type": "code",
   "execution_count": 20,
   "metadata": {},
   "outputs": [],
   "source": [
    "import torch.nn as nn\n",
    "import torch.optim as optim\n",
    "import matplotlib.pyplot as plt"
   ]
  },
  {
   "cell_type": "code",
   "execution_count": 58,
   "metadata": {},
   "outputs": [],
   "source": [
    "class CNN(nn.Module):\n",
    "\n",
    "    def __init__(self):\n",
    "        super(CNN, self).__init__()\n",
    "\n",
    "        self.conv1 = nn.Conv2d(3, 32, kernel_size=3)\n",
    "        self.conv2 = nn.Conv2d(32, 64, kernel_size=3)\n",
    "        self.conv3 = nn.Conv2d(64, 128, kernel_size=3)\n",
    "        self.conv2_drop = nn.Dropout2d()\n",
    "        self.conv3_drop = nn.Dropout2d()\n",
    "        self.fc1 = nn.Linear(512, 100)\n",
    "        self.fc2 = nn.Linear(100, 3)\n",
    "\n",
    "    def forward(self, x):\n",
    "        \n",
    "        x = F.relu(F.max_pool2d(self.conv1(x),2))\n",
    "        x = F.relu(F.max_pool2d(self.conv2_drop(self.conv2(x)),2))\n",
    "        x = F.relu(F.max_pool2d(self.conv3_drop(self.conv3(x)),2))\n",
    "        x = x.view(-1, 512)\n",
    "        x = F.relu(self.fc1(x))\n",
    "        x = F.dropout(x, training=self.training)\n",
    "        x = self.fc2(x)\n",
    "\n",
    "        return F.softmax(x)"
   ]
  },
  {
   "cell_type": "code",
   "execution_count": 79,
   "metadata": {},
   "outputs": [],
   "source": [
    "device = torch.device('cuda' if torch.cuda.is_available() else 'cpu')\n",
    "model = CNN()\n",
    "optimizer = optim.Adam(model.parameters(), lr=0.001)\n",
    "loss_fn = nn.CrossEntropyLoss()\n",
    "\n",
    "def train(epoch):\n",
    "    model.train()\n",
    "\n",
    "    for batch_idx, (data, target) in enumerate(loaders['train']):\n",
    "        data, target = data.to(device), target.to(device)\n",
    "        target = target.to(float)\n",
    "        optimizer.zero_grad()\n",
    "        output = model(data)\n",
    "        loss = loss_fn(output, target)\n",
    "        loss.backward()\n",
    "        optimizer.step()\n",
    "        if batch_idx % 5 == 0:\n",
    "            print(f'Train Epoch: {epoch} [{batch_idx * len(data)}/{len(loaders[\"train\"].dataset)} ({100. * batch_idx/len(loaders[\"train\"]):.0f}%)]\\t{loss.item():.6f}')\n",
    "\n",
    "def test():\n",
    "    model.eval()\n",
    "\n",
    "    test_loss = 0\n",
    "    correct = 0\n",
    "\n",
    "    with torch.no_grad():\n",
    "        for data, target in loaders['test']:\n",
    "            data, target = data.to(device), target.to(device)\n",
    "            target = target.to(float)\n",
    "            output = model(data)\n",
    "            test_loss += loss_fn(output, target).item()\n",
    "            pred = output.argmax(dim=1, keepdim = True)\n",
    "            target = target.argmax(dim=1, keepdim = True)\n",
    "            correct += pred.eq(target.view_as(pred)).sum().item()\n",
    "\n",
    "    test_loss /= len(loaders['test'].dataset)\n",
    "    print(f'\\nTest set: Average loss: {test_loss:.4f}, Accuracy {correct}/{len(loaders[\"test\"].dataset)} ({100. * correct / len(loaders[\"test\"].dataset):.0f}%\\n)')\n"
   ]
  },
  {
   "cell_type": "code",
   "execution_count": 89,
   "metadata": {},
   "outputs": [
    {
     "name": "stderr",
     "output_type": "stream",
     "text": [
      "/var/folders/s6/9r2gng9n28jfv8k1p2d_82rr0000gn/T/ipykernel_37342/1510074135.py:24: UserWarning: Implicit dimension choice for softmax has been deprecated. Change the call to include dim=X as an argument.\n",
      "  return F.softmax(x)\n"
     ]
    },
    {
     "name": "stdout",
     "output_type": "stream",
     "text": [
      "Train Epoch: 1 [0/230 (0%)]\t0.613945\n",
      "Train Epoch: 1 [80/230 (33%)]\t0.676591\n",
      "Train Epoch: 1 [160/230 (67%)]\t0.671464\n",
      "Train Epoch: 2 [0/230 (0%)]\t0.677881\n",
      "Train Epoch: 2 [80/230 (33%)]\t0.560108\n",
      "Train Epoch: 2 [160/230 (67%)]\t0.670782\n",
      "Train Epoch: 3 [0/230 (0%)]\t0.740061\n",
      "Train Epoch: 3 [80/230 (33%)]\t0.649685\n",
      "Train Epoch: 3 [160/230 (67%)]\t0.748585\n",
      "Train Epoch: 4 [0/230 (0%)]\t0.551737\n",
      "Train Epoch: 4 [80/230 (33%)]\t0.613993\n",
      "Train Epoch: 4 [160/230 (67%)]\t0.890822\n",
      "Train Epoch: 5 [0/230 (0%)]\t0.675857\n",
      "Train Epoch: 5 [80/230 (33%)]\t0.552961\n",
      "Train Epoch: 5 [160/230 (67%)]\t0.676445\n",
      "Train Epoch: 6 [0/230 (0%)]\t0.682208\n",
      "Train Epoch: 6 [80/230 (33%)]\t0.625222\n",
      "Train Epoch: 6 [160/230 (67%)]\t0.755109\n",
      "Train Epoch: 7 [0/230 (0%)]\t0.551445\n",
      "Train Epoch: 7 [80/230 (33%)]\t0.672103\n",
      "Train Epoch: 7 [160/230 (67%)]\t0.613945\n",
      "Train Epoch: 8 [0/230 (0%)]\t0.612203\n",
      "Train Epoch: 8 [80/230 (33%)]\t0.676445\n",
      "Train Epoch: 8 [160/230 (67%)]\t0.609719\n",
      "Train Epoch: 9 [0/230 (0%)]\t0.738775\n",
      "Train Epoch: 9 [80/230 (33%)]\t0.613945\n",
      "Train Epoch: 9 [160/230 (67%)]\t0.728312\n",
      "Train Epoch: 10 [0/230 (0%)]\t0.615252\n",
      "Train Epoch: 10 [80/230 (33%)]\t0.676445\n",
      "Train Epoch: 10 [160/230 (67%)]\t0.616870\n",
      "Train Epoch: 11 [0/230 (0%)]\t0.551445\n",
      "Train Epoch: 11 [80/230 (33%)]\t0.613730\n",
      "Train Epoch: 11 [160/230 (67%)]\t0.563080\n",
      "Train Epoch: 12 [0/230 (0%)]\t0.614001\n",
      "Train Epoch: 12 [80/230 (33%)]\t0.615725\n",
      "Train Epoch: 12 [160/230 (67%)]\t0.613956\n",
      "Train Epoch: 13 [0/230 (0%)]\t0.678043\n",
      "Train Epoch: 13 [80/230 (33%)]\t0.553026\n",
      "Train Epoch: 13 [160/230 (67%)]\t0.676445\n",
      "Train Epoch: 14 [0/230 (0%)]\t0.749373\n",
      "Train Epoch: 14 [80/230 (33%)]\t0.560977\n",
      "Train Epoch: 14 [160/230 (67%)]\t0.613918\n",
      "Train Epoch: 15 [0/230 (0%)]\t0.582759\n",
      "Train Epoch: 15 [80/230 (33%)]\t0.614571\n",
      "Train Epoch: 15 [160/230 (67%)]\t0.676514\n",
      "Train Epoch: 16 [0/230 (0%)]\t0.676446\n",
      "Train Epoch: 16 [80/230 (33%)]\t0.676446\n",
      "Train Epoch: 16 [160/230 (67%)]\t0.628331\n",
      "Train Epoch: 17 [0/230 (0%)]\t0.674183\n",
      "Train Epoch: 17 [80/230 (33%)]\t0.679125\n",
      "Train Epoch: 17 [160/230 (67%)]\t0.738737\n",
      "Train Epoch: 18 [0/230 (0%)]\t0.614580\n",
      "Train Epoch: 18 [80/230 (33%)]\t0.664099\n",
      "Train Epoch: 18 [160/230 (67%)]\t0.615467\n",
      "Train Epoch: 19 [0/230 (0%)]\t0.741573\n",
      "Train Epoch: 19 [80/230 (33%)]\t0.616573\n",
      "Train Epoch: 19 [160/230 (67%)]\t0.615246\n",
      "Train Epoch: 20 [0/230 (0%)]\t0.644144\n",
      "Train Epoch: 20 [80/230 (33%)]\t0.552157\n",
      "Train Epoch: 20 [160/230 (67%)]\t0.678482\n",
      "Train Epoch: 21 [0/230 (0%)]\t0.676475\n",
      "Train Epoch: 21 [80/230 (33%)]\t0.597804\n",
      "Train Epoch: 21 [160/230 (67%)]\t0.551709\n",
      "Train Epoch: 22 [0/230 (0%)]\t0.858382\n",
      "Train Epoch: 22 [80/230 (33%)]\t0.679948\n",
      "Train Epoch: 22 [160/230 (67%)]\t0.551448\n",
      "Train Epoch: 23 [0/230 (0%)]\t0.617758\n",
      "Train Epoch: 23 [80/230 (33%)]\t0.551445\n",
      "Train Epoch: 23 [160/230 (67%)]\t0.636240\n",
      "Train Epoch: 24 [0/230 (0%)]\t0.638676\n",
      "Train Epoch: 24 [80/230 (33%)]\t0.676561\n",
      "Train Epoch: 24 [160/230 (67%)]\t0.676497\n",
      "Train Epoch: 25 [0/230 (0%)]\t0.676450\n",
      "Train Epoch: 25 [80/230 (33%)]\t0.676446\n",
      "Train Epoch: 25 [160/230 (67%)]\t0.552823\n",
      "Train Epoch: 26 [0/230 (0%)]\t0.551509\n",
      "Train Epoch: 26 [80/230 (33%)]\t0.676452\n",
      "Train Epoch: 26 [160/230 (67%)]\t0.613676\n",
      "Train Epoch: 27 [0/230 (0%)]\t0.613945\n",
      "Train Epoch: 27 [80/230 (33%)]\t0.614100\n",
      "Train Epoch: 27 [160/230 (67%)]\t0.676448\n",
      "Train Epoch: 28 [0/230 (0%)]\t0.765541\n",
      "Train Epoch: 28 [80/230 (33%)]\t0.676434\n",
      "Train Epoch: 28 [160/230 (67%)]\t0.551446\n",
      "Train Epoch: 29 [0/230 (0%)]\t0.676974\n",
      "Train Epoch: 29 [80/230 (33%)]\t0.676418\n",
      "Train Epoch: 29 [160/230 (67%)]\t0.614196\n",
      "Train Epoch: 30 [0/230 (0%)]\t0.892215\n",
      "Train Epoch: 30 [80/230 (33%)]\t0.676449\n",
      "Train Epoch: 30 [160/230 (67%)]\t0.677287\n",
      "Train Epoch: 31 [0/230 (0%)]\t0.655571\n",
      "Train Epoch: 31 [80/230 (33%)]\t0.676490\n",
      "Train Epoch: 31 [160/230 (67%)]\t0.672199\n",
      "Train Epoch: 32 [0/230 (0%)]\t0.620444\n",
      "Train Epoch: 32 [80/230 (33%)]\t0.613945\n",
      "Train Epoch: 32 [160/230 (67%)]\t0.676758\n",
      "Train Epoch: 33 [0/230 (0%)]\t0.553210\n",
      "Train Epoch: 33 [80/230 (33%)]\t0.676445\n",
      "Train Epoch: 33 [160/230 (67%)]\t0.614012\n",
      "Train Epoch: 34 [0/230 (0%)]\t0.604181\n",
      "Train Epoch: 34 [80/230 (33%)]\t0.798664\n",
      "Train Epoch: 34 [160/230 (67%)]\t0.613947\n",
      "Train Epoch: 35 [0/230 (0%)]\t0.614011\n",
      "Train Epoch: 35 [80/230 (33%)]\t0.551445\n",
      "Train Epoch: 35 [160/230 (67%)]\t0.738948\n",
      "Train Epoch: 36 [0/230 (0%)]\t0.677395\n",
      "Train Epoch: 36 [80/230 (33%)]\t0.551447\n",
      "Train Epoch: 36 [160/230 (67%)]\t0.559976\n",
      "Train Epoch: 37 [0/230 (0%)]\t0.676439\n",
      "Train Epoch: 37 [80/230 (33%)]\t0.613959\n",
      "Train Epoch: 37 [160/230 (67%)]\t0.613940\n",
      "Train Epoch: 38 [0/230 (0%)]\t0.738954\n",
      "Train Epoch: 38 [80/230 (33%)]\t0.676455\n",
      "Train Epoch: 38 [160/230 (67%)]\t0.703593\n",
      "Train Epoch: 39 [0/230 (0%)]\t0.676445\n",
      "Train Epoch: 39 [80/230 (33%)]\t0.613950\n",
      "Train Epoch: 39 [160/230 (67%)]\t0.552048\n",
      "Train Epoch: 40 [0/230 (0%)]\t0.614696\n",
      "Train Epoch: 40 [80/230 (33%)]\t0.676517\n",
      "Train Epoch: 40 [160/230 (67%)]\t0.616192\n",
      "\n",
      "Test set: Average loss: 0.0578, Accuracy 42/58 (72%\n",
      ")\n"
     ]
    }
   ],
   "source": [
    "for epoch in range(1,41):\n",
    "    train(epoch)\n",
    "test()"
   ]
  },
  {
   "cell_type": "code",
   "execution_count": null,
   "metadata": {},
   "outputs": [],
   "source": []
  }
 ],
 "metadata": {
  "kernelspec": {
   "display_name": "Python 3",
   "language": "python",
   "name": "python3"
  },
  "language_info": {
   "codemirror_mode": {
    "name": "ipython",
    "version": 3
   },
   "file_extension": ".py",
   "mimetype": "text/x-python",
   "name": "python",
   "nbconvert_exporter": "python",
   "pygments_lexer": "ipython3",
   "version": "3.12.2"
  }
 },
 "nbformat": 4,
 "nbformat_minor": 2
}
